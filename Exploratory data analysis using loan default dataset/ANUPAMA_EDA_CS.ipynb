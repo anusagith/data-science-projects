
PROBLEM STATEMENT 

Points to note:

1. Assume a bank
2. customer is looking for a loan
3. Mr.Y is an employee of the bank; and can decide to which customer he can give loan
4. Mr.Y can either approve or reject a loan
5. But by doing so, below are the possible errors that can Mr.Y can commit
- credit loss: Y will approve loan of X who is a defaulter [have payment issues]    
- interest loss: if Y rejects loan request of the customer who is actually a non-defaulter [no payment issues] 

WHAT CAN BE DONE?
1. Come up with some set of rules or indicators using which the bank can decide whether they should approve or reject a loan 
2. Using EDA techniques you need to analyse the data and come up with insights 
3. what are the strong variables that can help the bank to predict the customer who defaults

Data Set: Two files

application_data.csv : it consists of the end result info regarding customers latest loan.
previous_application.csv : all previous loan results will be present here.

Note:
Missing Values --> Only reported; no imputation done
Outliers ---> only reported; not treated
